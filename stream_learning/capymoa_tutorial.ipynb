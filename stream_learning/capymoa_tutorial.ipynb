{
 "cells": [
  {
   "cell_type": "markdown",
   "id": "fd17b68e",
   "metadata": {},
   "source": [
    "## Treinando modelos de aprendizado de máquina com a biblioteca CapyMOA\n",
    "\n",
    "CapyMOA é uma biblioteca desenvolvida para aprendizado de máquina com stream de dados (aprendizado contínuo) que integra funcionalidades das bibliotecas MOA (stream learners), PyTorch (redes neurais) e scikit-learn (aprendizado de máquina).\n",
    "\n",
    "\n",
    "#### Por que utilizar?\n",
    "\n",
    "Tratando um dado por vez (instância), o formato de aprendizado continuo traz algumas vantagens valiosas principalmente para o contexto de redes, dentre elas: economia de memória e armazenamento, tratamento e atualização de dados em tempo real, escalabilidade, adaptação automática a mudanças (concept drift)... \n",
    "\n",
    "Por sua vez, o CapyMOA oferece a vantagem de ser rápido e a possibilidade de desenvolver com baixo nível de código."
   ]
  },
  {
   "cell_type": "markdown",
   "id": "a37a792e",
   "metadata": {},
   "source": [
    "#### Preparando o ambiente\n",
    "\n",
    "O CapyMOA possui algumas dependências para ser executado:\n",
    "\n",
    "- JAVA\n",
    "- Biliotecas Python: torch & torchvision \n",
    "\n",
    "\\# Verifica se JAVA está instalado e a versão\n",
    "java -version\n",
    "\n",
    "\\# Instalação do pytorch\n",
    "pip install torch torchvision --index-url https://download.pytorch.org/whl/cpu\n",
    "\n",
    "\\# Instalação da biblioteca\n",
    "pip install capymoa\n"
   ]
  },
  {
   "cell_type": "code",
   "execution_count": null,
   "id": "e55ac424",
   "metadata": {},
   "outputs": [],
   "source": [
    "import capymoa"
   ]
  },
  {
   "cell_type": "markdown",
   "id": "f9b73942",
   "metadata": {},
   "source": [
    "#### Preparando dados\n",
    "\n",
    "A biblioteca possui um módulo chamado \"capymoa.stream\" com alguns métodos úteis para importação de dados de um dataset ou conversão de dados em uma instância.\n",
    "\n",
    "Stream -> Retorna um stream de dados a partir de um conjunto de dados em memória, como uma lista de dicionarios ou pandas.DataFrame\n",
    "Schema -> Cria uma definição de Schema à partir de propriedades\n",
    "ARFFStream -> Retorna um stream de dados a partir de um arquivo .arff\n",
    "CSVStream -> Retorna um stream de dados a partir de um arquivo .csv que é convertido em .arff\n",
    "NumpyStream -> Retorna um stream de dados a partir de um np.array\n",
    "ConcatStream -> Retorna um stream de dados concatenado a partir de dois streams menores\n",
    "\n",
    "\n",
    "Como já dito, a biblioteca é desenhada para tratar uma instância por vez. Uma instância nada mais é que um novo bloco de dados, uma linha em um dataset. Por tanto, stream de dados são iteráveis e cada itter é representa uma instância.\n",
    "\n",
    "O CApyMOA também possui ainda vários datasets de exemplo que podem ser importados a partir do módulo capymoa.datasets (Bike, CovtFD, Covtype, CovtypeNorm, CovtypeTiny, Electricity, ElectricityTiny, Sensor). Quando uma dessas classes é instânciada, um arquivo .arff será gerado dentro de uma pasta \"data\" no diretório atual.\n",
    "\n",
    "Quando trabalhando com arquivos ARFF, o schema do dataset já é pré-definido. Em outros casos, é feita uma detecção automática do tipo de dado em cada coluna, porém pode ser necessária a definição manual através de uma instância de capymoa.stream.Schema utilizando o método \"from_custom\"\n",
    "\n",
    "Também é possível inicializar uma instância individual, para isso utiliza-se o método \"capymoa.instance.from_array\" que recebe um schema e um np.array."
   ]
  },
  {
   "cell_type": "code",
   "execution_count": null,
   "id": "f34cf0b0",
   "metadata": {},
   "outputs": [],
   "source": [
    "from capymoa.stream import Schema\n",
    "from capymoa.instance import Instance\n",
    "import numpy as np\n",
    "\n",
    "example_schema = Schema.from_custom(\n",
    "    feature_names=[\"attrib_1\", \"attrib_2\"],\n",
    "    dataset_name=\"Hello World Schema\",\n",
    "    target_attribute_name=\"class\",\n",
    "    values_for_class_label=[\"yes\", \"no\"]\n",
    ")\n",
    "\n",
    "example_instance_1 = Instance.from_array(\n",
    "    schema=example_schema,\n",
    "    instance=np.array([1.0, 2.0]),\n",
    ")\n",
    "\n",
    "example_instance_2 = Instance.from_array(\n",
    "    schema=example_schema,\n",
    "    instance=np.array([3.0, 4.0]),\n",
    ")\n",
    "\n",
    "print(example_schema)\n",
    "print(\"\\n\", example_instance_1)\n",
    "print(\"\\n\", example_instance_2)"
   ]
  },
  {
   "cell_type": "code",
   "execution_count": null,
   "id": "4abac34a",
   "metadata": {},
   "outputs": [],
   "source": [
    "# Importa datasets\n",
    "from capymoa.datasets import Sensor \n",
    "    # CovtFD, \\\n",
    "    # Covtype, \\\n",
    "    # CovtypeNorm, \\\n",
    "    # CovtypeTiny, \\\n",
    "    # Electricity, \\\n",
    "    # ElectricityTiny, \\\n",
    "    # Fried, \\\n",
    "    # FriedTiny, \\\n",
    "    # Hyper100k, \\\n",
    "    # RBFm_100k, \\\n",
    "    # RTG_2abrupt, \\\n",
    "    # Sensor\n",
    "\n",
    "\n",
    "sensor_stream = Sensor()\n",
    "\n",
    "sensor_stream.schema"
   ]
  },
  {
   "cell_type": "code",
   "execution_count": null,
   "id": "e3bc4bc3",
   "metadata": {},
   "outputs": [],
   "source": [
    "from capymoa.stream import CSVStream\n",
    "\n",
    "csv_path = './data/cap52processed.csv'\n",
    "\n",
    "stream_from_csv = CSVStream(csv_path,\n",
    "                            \n",
    "                            target_attribute_name= \"label\",\n",
    "                            class_index= -1,\n",
    "                            values_for_class_label= ['0', '1'],\n",
    "                            dataset_name= \"Labeled Traffic\",\n",
    "\n",
    ")\n",
    "\n",
    "print(stream_from_csv.schema)"
   ]
  },
  {
   "cell_type": "markdown",
   "id": "613d2a5b",
   "metadata": {},
   "source": [
    "#### Classificadores e Avaliação\n",
    "\n",
    "A biblioteca CapyMOA oferece suporte a diversos classificadores para modelos supervisionados, com exemplos detalhados disponíveis na documentação oficial. No entanto, para modelos semi-supervisionados, há apenas um classificador nativo implementado: o Open-Set Nearest-Neighbor (OSNN). \n",
    "\n",
    "Apesar dessa limitação, a biblioteca permite a criação e integração de novos classificadores personalizados. (https://capymoa.org/notebooks/05_new_learner.html)\n",
    "\n",
    "Para avaliação de modelos supervisionados, temos o módulo \"capymoa.evaluation.prequential_ssl_evaluation\"."
   ]
  },
  {
   "cell_type": "code",
   "execution_count": null,
   "id": "ea3f1601",
   "metadata": {},
   "outputs": [],
   "source": [
    "from capymoa.ssl.classifier import OSNN\n",
    "from capymoa.evaluation import prequential_ssl_evaluation\n",
    "from capymoa.evaluation.visualization import plot_windowed_results\n",
    "\n",
    "osnn = OSNN(\n",
    "    schema=stream_from_csv.get_schema(),\n",
    ")\n",
    "\n",
    "results_osnn = prequential_ssl_evaluation(\n",
    "    stream=stream_from_csv,\n",
    "    learner=osnn,\n",
    "    label_probability=0.05,\n",
    "    window_size=100,\n",
    "    max_instances=1000,\n",
    "    restart_stream=False,\n",
    ")\n",
    "\n",
    "######################################\n",
    "\n",
    "print(f\"Accuracy: {results_osnn[\"cumulative\"].accuracy()}\\n\")\n",
    "display(results_osnn[\"windowed\"].metrics_per_window())\n",
    "\n",
    "results_osnn.learner = \"OSNN\"\n",
    "plot_windowed_results(results_osnn, metric=\"accuracy\")\n",
    "\n"
   ]
  },
  {
   "cell_type": "code",
   "execution_count": null,
   "id": "8c749822",
   "metadata": {},
   "outputs": [],
   "source": [
    "from capymoa.stream import CSVStream\n",
    "\n",
    "csv_path = \"./data/cap52processed.csv\"\n",
    "\n",
    "stream_from_csv = CSVStream(\n",
    "    csv_path,\n",
    "    target_attribute_name=\"label\",\n",
    "    class_index=-1,\n",
    "    values_for_class_label=[\"0\", \"1\"],\n",
    "    dataset_name=\"NetInfect\",\n",
    ")\n",
    "\n",
    "stream_from_csv.schema"
   ]
  },
  {
   "cell_type": "code",
   "execution_count": null,
   "id": "578bf79a",
   "metadata": {},
   "outputs": [],
   "source": [
    "from capymoa.datasets import Electricity\n",
    "from capymoa.evaluation import ClassificationEvaluator\n",
    "from capymoa.classifier import OnlineBagging\n",
    "\n",
    "elec_stream = Electricity()\n",
    "ob_learner = OnlineBagging(\n",
    "    schema=elec_stream.get_schema(),\n",
    "    ensemble_size=5,\n",
    "    # random_seed=1,\n",
    "    # base_learner=None,\n",
    "    # minibatch_size=None,\n",
    "    # number_of_jobs=None,\n",
    ")\n",
    "\n",
    "ob_evaluator = ClassificationEvaluator(schema=elec_stream.get_schema())\n",
    "\n",
    "for instance in elec_stream:\n",
    "    prediction = ob_learner.predict(instance)\n",
    "    ob_learner.train(instance)\n",
    "    ob_evaluator.update(instance.y_index, prediction)\n",
    "\n",
    "print(\"Accuracy:\", ob_evaluator.accuracy())"
   ]
  },
  {
   "cell_type": "markdown",
   "id": "fac96188",
   "metadata": {},
   "source": [
    "#### Aprendizado contínuo com stream de dados"
   ]
  }
 ],
 "metadata": {
  "kernelspec": {
   "display_name": ".venv",
   "language": "python",
   "name": "python3"
  },
  "language_info": {
   "codemirror_mode": {
    "name": "ipython",
    "version": 3
   },
   "file_extension": ".py",
   "mimetype": "text/x-python",
   "name": "python",
   "nbconvert_exporter": "python",
   "pygments_lexer": "ipython3",
   "version": "3.12.3"
  }
 },
 "nbformat": 4,
 "nbformat_minor": 5
}
